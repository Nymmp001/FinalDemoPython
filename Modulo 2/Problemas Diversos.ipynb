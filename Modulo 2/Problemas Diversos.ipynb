{
 "cells": [
  {
   "cell_type": "markdown",
   "metadata": {},
   "source": [
    "# PROBLEMAS DIVERSOS"
   ]
  },
  {
   "cell_type": "markdown",
   "metadata": {},
   "source": [
    "<h3>1.</h3>\n",
    "Realizar una función que permita la carga de n alumnos. Por cada alumno se deberá preguntar el nombre completo y permitir el ingreso de 3 notas. Las notas deben estar comprendidas entre 0 y 10. Devolver el listado de alumnos."
   ]
  },
  {
   "cell_type": "code",
   "execution_count": 2,
   "metadata": {},
   "outputs": [],
   "source": [
    "def lista_alumnos(num_alumnos):\n",
    "    alumnos=[]\n",
    "    for n in range(num_alumnos):\n",
    "        alumno = {}\n",
    "        \n",
    "        alumno['Nombre'] = input('Ingrese el nombre completo')\n",
    "        alumno['Nota1'] = float(input('Ingrese nota 1'))\n",
    "        alumno['Nota2'] = float(input('Ingrese nota 2'))\n",
    "        alumno['Nota3'] = float(input('Ingrese nota 3'))\n",
    "        \n",
    "        alumnos.append(alumno)\n",
    "    return alumnos"
   ]
  },
  {
   "cell_type": "code",
   "execution_count": 1,
   "metadata": {},
   "outputs": [
    {
     "name": "stdin",
     "output_type": "stream",
     "text": [
      "Introduce la cantidad de alumnos:  3\n"
     ]
    }
   ],
   "source": [
    "num_alumnos = int(input('Introduce la cantidad de alumnos: '))"
   ]
  },
  {
   "cell_type": "code",
   "execution_count": 3,
   "metadata": {},
   "outputs": [
    {
     "name": "stdin",
     "output_type": "stream",
     "text": [
      "Ingrese el nombre completo Gonzalo\n",
      "Ingrese nota 1 14\n",
      "Ingrese nota 2 12\n",
      "Ingrese nota 3 15\n",
      "Ingrese el nombre completo Juan\n",
      "Ingrese nota 1 02\n",
      "Ingrese nota 2 08\n",
      "Ingrese nota 3 09\n",
      "Ingrese el nombre completo Maria\n",
      "Ingrese nota 1 14\n",
      "Ingrese nota 2 11\n",
      "Ingrese nota 3 10\n"
     ]
    },
    {
     "data": {
      "text/plain": [
       "[{'Nombre': 'Gonzalo', 'Nota1': 14.0, 'Nota2': 12.0, 'Nota3': 15.0},\n",
       " {'Nombre': 'Juan', 'Nota1': 2.0, 'Nota2': 8.0, 'Nota3': 9.0},\n",
       " {'Nombre': 'Maria', 'Nota1': 14.0, 'Nota2': 11.0, 'Nota3': 10.0}]"
      ]
     },
     "execution_count": 3,
     "metadata": {},
     "output_type": "execute_result"
    }
   ],
   "source": [
    "list_alumnos = lista_alumnos(num_alumnos)"
   ]
  },
  {
   "cell_type": "code",
   "execution_count": null,
   "metadata": {},
   "outputs": [],
   "source": [
    "alumno = {}"
   ]
  },
  {
   "cell_type": "code",
   "execution_count": null,
   "metadata": {},
   "outputs": [],
   "source": []
  },
  {
   "cell_type": "markdown",
   "metadata": {},
   "source": [
    "### 2.\n",
    "Definir una función que dado un listado de alumnos evalúe cuántos aprobaron y cuántos desaprobaron, teniendo en cuenta que se aprueba con 4. La nota será el promedio de las 3 notas para cada alumno."
   ]
  },
  {
   "cell_type": "code",
   "execution_count": null,
   "metadata": {},
   "outputs": [],
   "source": []
  },
  {
   "cell_type": "markdown",
   "metadata": {},
   "source": [
    "### 3.\n",
    "Informar el promedio de nota del curso total."
   ]
  },
  {
   "cell_type": "code",
   "execution_count": null,
   "metadata": {},
   "outputs": [],
   "source": []
  },
  {
   "cell_type": "code",
   "execution_count": null,
   "metadata": {},
   "outputs": [],
   "source": []
  },
  {
   "cell_type": "markdown",
   "metadata": {},
   "source": [
    "### 4.\n",
    "Realizar una función que indique quién tuvo el promedio más alto y quién tuvo la nota promedio más baja."
   ]
  },
  {
   "cell_type": "code",
   "execution_count": null,
   "metadata": {},
   "outputs": [],
   "source": []
  },
  {
   "cell_type": "code",
   "execution_count": null,
   "metadata": {},
   "outputs": [],
   "source": []
  },
  {
   "cell_type": "code",
   "execution_count": null,
   "metadata": {},
   "outputs": [],
   "source": []
  },
  {
   "cell_type": "markdown",
   "metadata": {},
   "source": [
    "### 5.\n",
    "Realizar una función que permita buscar un alumno por nombre, siendo el nombre completo o parcial, y devuelva una lista con los n alumnos que concuerden con ese nombre junto con todos sus datos, incluido el promedio de sus notas."
   ]
  },
  {
   "cell_type": "code",
   "execution_count": null,
   "metadata": {},
   "outputs": [],
   "source": []
  }
 ],
 "metadata": {
  "kernelspec": {
   "display_name": "Python 3",
   "language": "python",
   "name": "python3"
  },
  "language_info": {
   "codemirror_mode": {
    "name": "ipython",
    "version": 3
   },
   "file_extension": ".py",
   "mimetype": "text/x-python",
   "name": "python",
   "nbconvert_exporter": "python",
   "pygments_lexer": "ipython3",
   "version": "3.8.5"
  }
 },
 "nbformat": 4,
 "nbformat_minor": 4
}
